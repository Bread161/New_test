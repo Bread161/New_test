{
  "nbformat": 4,
  "nbformat_minor": 0,
  "metadata": {
    "colab": {
      "provenance": [],
      "toc_visible": true,
      "authorship_tag": "ABX9TyPtFdIasZgGe3AmDwcwy2AI",
      "include_colab_link": true
    },
    "kernelspec": {
      "name": "python3",
      "display_name": "Python 3"
    },
    "language_info": {
      "name": "python"
    }
  },
  "cells": [
    {
      "cell_type": "markdown",
      "metadata": {
        "id": "view-in-github",
        "colab_type": "text"
      },
      "source": [
        "<a href=\"https://colab.research.google.com/github/Bread161/New_test/blob/main/Untitled0.ipynb\" target=\"_parent\"><img src=\"https://colab.research.google.com/assets/colab-badge.svg\" alt=\"Open In Colab\"/></a>"
      ]
    },
    {
      "cell_type": "code",
      "execution_count": null,
      "metadata": {
        "id": "e2UKx0Gzuzj8"
      },
      "outputs": [],
      "source": []
    },
    {
      "cell_type": "markdown",
      "source": [
        "Тестовое задание\n"
      ],
      "metadata": {
        "id": "dt9TZi2zu11Y"
      }
    },
    {
      "cell_type": "markdown",
      "source": [
        "#Задача\n",
        "Нужно собрать колаб (Гугл колаб)  так, чтобы там можно было визуально работать не разработчику, в котором будет реализована следующая логика:\n",
        "\n",
        "Приходит запрос пользователя,\n",
        "Определяется вопрос позитивный или негативный.\n",
        "Если позитивный, то GPT отвечает как Бетмен.\n",
        "Если негативный, то как Джокер.\n",
        "\n",
        "Провести 10 тестов (отобразить результаты в колабе ниже)."
      ],
      "metadata": {
        "id": "HRoJI6I9vCHb"
      }
    },
    {
      "cell_type": "code",
      "source": [
        "from textblob import TextBlob\n",
        "from IPython.display import display, Markdown\n",
        "\n",
        "def determine_sentiment(question):\n",
        "    blob = TextBlob(question)\n",
        "    sentiment = blob.sentiment.polarity\n",
        "    if sentiment > 0:\n",
        "        return \"positive\"\n",
        "    elif sentiment < 0:\n",
        "        return \"negative\"\n",
        "    else:\n",
        "        return \"neutral\"\n",
        "\n",
        "def batman_response():\n",
        "    return \"I'm Batman.\"\n",
        "\n",
        "def joker_response():\n",
        "    return \"Xa-Xa-Xa.Are you serious?\"\n",
        "\n",
        "for i in range(10):\n",
        "    question = input(\"Enter your question: \")\n",
        "    sentiment = determine_sentiment(question)\n",
        "    if sentiment == \"positive\":\n",
        "        response = batman_response()\n",
        "    else:\n",
        "        response = joker_response()\n",
        "    display(Markdown(response))"
      ],
      "metadata": {
        "colab": {
          "base_uri": "https://localhost:8080/",
          "height": 484
        },
        "id": "g_eSQ-rUzObO",
        "outputId": "6d092c82-840b-4804-8aac-afc14934be48"
      },
      "execution_count": 18,
      "outputs": [
        {
          "name": "stdout",
          "output_type": "stream",
          "text": [
            "Enter your question: Hello,how are you?\n"
          ]
        },
        {
          "output_type": "display_data",
          "data": {
            "text/plain": [
              "<IPython.core.display.Markdown object>"
            ],
            "text/markdown": "Xa-Xa-Xa.Are you serious?"
          },
          "metadata": {}
        },
        {
          "name": "stdout",
          "output_type": "stream",
          "text": [
            "Enter your question: Good day\n"
          ]
        },
        {
          "output_type": "display_data",
          "data": {
            "text/plain": [
              "<IPython.core.display.Markdown object>"
            ],
            "text/markdown": "I'm Batman."
          },
          "metadata": {}
        },
        {
          "name": "stdout",
          "output_type": "stream",
          "text": [
            "Enter your question: Bad day\n"
          ]
        },
        {
          "output_type": "display_data",
          "data": {
            "text/plain": [
              "<IPython.core.display.Markdown object>"
            ],
            "text/markdown": "Xa-Xa-Xa.Are you serious?"
          },
          "metadata": {}
        },
        {
          "name": "stdout",
          "output_type": "stream",
          "text": [
            "Enter your question: terrable \n"
          ]
        },
        {
          "output_type": "display_data",
          "data": {
            "text/plain": [
              "<IPython.core.display.Markdown object>"
            ],
            "text/markdown": "Xa-Xa-Xa.Are you serious?"
          },
          "metadata": {}
        },
        {
          "name": "stdout",
          "output_type": "stream",
          "text": [
            "Enter your question: nice car\n"
          ]
        },
        {
          "output_type": "display_data",
          "data": {
            "text/plain": [
              "<IPython.core.display.Markdown object>"
            ],
            "text/markdown": "I'm Batman."
          },
          "metadata": {}
        },
        {
          "name": "stdout",
          "output_type": "stream",
          "text": [
            "Enter your question: i love you\n"
          ]
        },
        {
          "output_type": "display_data",
          "data": {
            "text/plain": [
              "<IPython.core.display.Markdown object>"
            ],
            "text/markdown": "I'm Batman."
          },
          "metadata": {}
        },
        {
          "name": "stdout",
          "output_type": "stream",
          "text": [
            "Enter your question: it is so scary \n"
          ]
        },
        {
          "output_type": "display_data",
          "data": {
            "text/plain": [
              "<IPython.core.display.Markdown object>"
            ],
            "text/markdown": "Xa-Xa-Xa.Are you serious?"
          },
          "metadata": {}
        },
        {
          "name": "stdout",
          "output_type": "stream",
          "text": [
            "Enter your question: bad man\n"
          ]
        },
        {
          "output_type": "display_data",
          "data": {
            "text/plain": [
              "<IPython.core.display.Markdown object>"
            ],
            "text/markdown": "Xa-Xa-Xa.Are you serious?"
          },
          "metadata": {}
        },
        {
          "name": "stdout",
          "output_type": "stream",
          "text": [
            "Enter your question: are you a  joke ?\n"
          ]
        },
        {
          "output_type": "display_data",
          "data": {
            "text/plain": [
              "<IPython.core.display.Markdown object>"
            ],
            "text/markdown": "Xa-Xa-Xa.Are you serious?"
          },
          "metadata": {}
        },
        {
          "name": "stdout",
          "output_type": "stream",
          "text": [
            "Enter your question: godbay\n"
          ]
        },
        {
          "output_type": "display_data",
          "data": {
            "text/plain": [
              "<IPython.core.display.Markdown object>"
            ],
            "text/markdown": "Xa-Xa-Xa.Are you serious?"
          },
          "metadata": {}
        }
      ]
    }
  ]
}